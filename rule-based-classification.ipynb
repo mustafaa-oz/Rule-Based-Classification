{
 "cells": [
  {
   "cell_type": "code",
   "execution_count": 1,
   "id": "9173584a",
   "metadata": {
    "_cell_guid": "b1076dfc-b9ad-4769-8c92-a6c4dae69d19",
    "_uuid": "8f2839f25d086af736a60e9eeb907d3b93b6e0e5",
    "execution": {
     "iopub.execute_input": "2025-02-02T21:58:14.886555Z",
     "iopub.status.busy": "2025-02-02T21:58:14.886132Z",
     "iopub.status.idle": "2025-02-02T21:58:16.057232Z",
     "shell.execute_reply": "2025-02-02T21:58:16.055899Z"
    },
    "papermill": {
     "duration": 1.181932,
     "end_time": "2025-02-02T21:58:16.059447",
     "exception": false,
     "start_time": "2025-02-02T21:58:14.877515",
     "status": "completed"
    },
    "tags": []
   },
   "outputs": [
    {
     "name": "stdout",
     "output_type": "stream",
     "text": [
      "/kaggle/input/persona/persona.csv\n"
     ]
    }
   ],
   "source": [
    "# This Python 3 environment comes with many helpful analytics libraries installed\n",
    "# It is defined by the kaggle/python Docker image: https://github.com/kaggle/docker-python\n",
    "# For example, here's several helpful packages to load\n",
    "\n",
    "import numpy as np # linear algebra\n",
    "import pandas as pd # data processing, CSV file I/O (e.g. pd.read_csv)\n",
    "\n",
    "# Input data files are available in the read-only \"../input/\" directory\n",
    "# For example, running this (by clicking run or pressing Shift+Enter) will list all files under the input directory\n",
    "\n",
    "import os\n",
    "for dirname, _, filenames in os.walk('/kaggle/input'):\n",
    "    for filename in filenames:\n",
    "        print(os.path.join(dirname, filename))\n",
    "\n",
    "# You can write up to 20GB to the current directory (/kaggle/working/) that gets preserved as output when you create a version using \"Save & Run All\" \n",
    "# You can also write temporary files to /kaggle/temp/, but they won't be saved outside of the current session"
   ]
  },
  {
   "cell_type": "markdown",
   "id": "871d1ad7",
   "metadata": {
    "papermill": {
     "duration": 0.006098,
     "end_time": "2025-02-02T21:58:16.073078",
     "exception": false,
     "start_time": "2025-02-02T21:58:16.066980",
     "status": "completed"
    },
    "tags": []
   },
   "source": [
    "# **Rule-Based Classification and Potential Customer Earn Calculation**"
   ]
  },
  {
   "cell_type": "markdown",
   "id": "b764c32b",
   "metadata": {
    "papermill": {
     "duration": 0.005528,
     "end_time": "2025-02-02T21:58:16.084884",
     "exception": false,
     "start_time": "2025-02-02T21:58:16.079356",
     "status": "completed"
    },
    "tags": []
   },
   "source": [
    "##  **What is Rule-Based Classification?**\n",
    "\n",
    "Rule-based classification is a fundamental technique in data science that utilizes predefined “if-then” rules to categorize data into distinct classes. These rules are derived from the inherent patterns and relationships within the data, making the classification process both transparent and interpretable. For example:\n",
    "\n",
    "* IF a customer age > 30 AND income > $60,000, THEN classify as “eligible for credit” and approve a loan.\n",
    "Unlike ML, it doesn’t learn from data but relies on explicit knowledge, making it interpretable and quick to implement."
   ]
  },
  {
   "cell_type": "markdown",
   "id": "381a9429",
   "metadata": {
    "papermill": {
     "duration": 0.005257,
     "end_time": "2025-02-02T21:58:16.095909",
     "exception": false,
     "start_time": "2025-02-02T21:58:16.090652",
     "status": "completed"
    },
    "tags": []
   },
   "source": [
    "## **Business Problem**\n",
    "\n",
    "A gaming company wants to create level-based new customer definitions (personas) using some of its customers' characteristics and create segments based on these new customer definitions and estimate how much new customers can earn on average for the company based on these segments.\n",
    "\n",
    "For example: It is desired to determine how much an average 25-year-old male user from Turkey who is an IOS user can earn."
   ]
  },
  {
   "cell_type": "markdown",
   "id": "f2c4b5ca",
   "metadata": {
    "papermill": {
     "duration": 0.005462,
     "end_time": "2025-02-02T21:58:16.107017",
     "exception": false,
     "start_time": "2025-02-02T21:58:16.101555",
     "status": "completed"
    },
    "tags": []
   },
   "source": [
    "## **The Data Set Story**\n",
    "The \"persona.csv\" dataset contains the prices of products sold by an international game company and includes some demographic information about the users who purchase these products. The dataset consists of records generated from each sales transaction. This means that the table is not de-duplicated. In other words, a user with specific demographic characteristics may have made multiple purchases.\n",
    "\n",
    "**Features in the Dataset:**\n",
    "* **price:** The amount spent by the customer\n",
    "* **source:** The type of device the customer is connected to\n",
    "* **sex:** The gender of the customer\n",
    "* **country:** The country of the customer\n",
    "* **age:** The age of the customer"
   ]
  },
  {
   "cell_type": "code",
   "execution_count": 2,
   "id": "e84f57e3",
   "metadata": {
    "execution": {
     "iopub.execute_input": "2025-02-02T21:58:16.120504Z",
     "iopub.status.busy": "2025-02-02T21:58:16.119999Z",
     "iopub.status.idle": "2025-02-02T21:58:19.208649Z",
     "shell.execute_reply": "2025-02-02T21:58:19.207712Z"
    },
    "papermill": {
     "duration": 3.09745,
     "end_time": "2025-02-02T21:58:19.210452",
     "exception": false,
     "start_time": "2025-02-02T21:58:16.113002",
     "status": "completed"
    },
    "tags": []
   },
   "outputs": [],
   "source": [
    "# import required libraries\n",
    "import pandas as pd\n",
    "import numpy as np\n",
    "import seaborn as sns\n",
    "import matplotlib.pyplot as plt\n",
    "import plotly.express as px\n",
    "import warnings\n",
    "warnings.simplefilter(action=\"ignore\")"
   ]
  },
  {
   "cell_type": "code",
   "execution_count": 3,
   "id": "99b5766a",
   "metadata": {
    "execution": {
     "iopub.execute_input": "2025-02-02T21:58:19.224216Z",
     "iopub.status.busy": "2025-02-02T21:58:19.223676Z",
     "iopub.status.idle": "2025-02-02T21:58:19.228279Z",
     "shell.execute_reply": "2025-02-02T21:58:19.227363Z"
    },
    "papermill": {
     "duration": 0.013299,
     "end_time": "2025-02-02T21:58:19.229905",
     "exception": false,
     "start_time": "2025-02-02T21:58:19.216606",
     "status": "completed"
    },
    "tags": []
   },
   "outputs": [],
   "source": [
    "# rows and columns settings\n",
    "pd.set_option(\"display.max_rows\", None)\n",
    "pd.set_option(\"display.max_columns\", None)\n",
    "pd.set_option(\"display.float_format\", lambda x: '%.2f' % x)"
   ]
  },
  {
   "cell_type": "code",
   "execution_count": 4,
   "id": "f76b9ac8",
   "metadata": {
    "execution": {
     "iopub.execute_input": "2025-02-02T21:58:19.242387Z",
     "iopub.status.busy": "2025-02-02T21:58:19.242064Z",
     "iopub.status.idle": "2025-02-02T21:58:19.266860Z",
     "shell.execute_reply": "2025-02-02T21:58:19.265869Z"
    },
    "papermill": {
     "duration": 0.033243,
     "end_time": "2025-02-02T21:58:19.268982",
     "exception": false,
     "start_time": "2025-02-02T21:58:19.235739",
     "status": "completed"
    },
    "tags": []
   },
   "outputs": [],
   "source": [
    "# loading the dataset\n",
    "df = pd.read_csv(\"/kaggle/input/persona/persona.csv\")"
   ]
  },
  {
   "cell_type": "code",
   "execution_count": 5,
   "id": "331d5863",
   "metadata": {
    "execution": {
     "iopub.execute_input": "2025-02-02T21:58:19.281902Z",
     "iopub.status.busy": "2025-02-02T21:58:19.281517Z",
     "iopub.status.idle": "2025-02-02T21:58:19.287071Z",
     "shell.execute_reply": "2025-02-02T21:58:19.286054Z"
    },
    "papermill": {
     "duration": 0.013873,
     "end_time": "2025-02-02T21:58:19.288885",
     "exception": false,
     "start_time": "2025-02-02T21:58:19.275012",
     "status": "completed"
    },
    "tags": []
   },
   "outputs": [],
   "source": [
    "# writing a function to look at the overall picture\n",
    "def check_df(dataframe, head=5):\n",
    "    print('##################### Shape #####################')\n",
    "    print(dataframe.shape)\n",
    "    print('##################### Types #####################')\n",
    "    print(dataframe.dtypes)\n",
    "    print('##################### Head #####################')\n",
    "    print(dataframe.head(head))\n",
    "    print('##################### Tail #####################')\n",
    "    print(dataframe.tail(head))\n",
    "    print('##################### NA #####################')\n",
    "    print(dataframe.isnull().sum())\n",
    "    print('##################### Quantiles #####################')\n",
    "    print(dataframe.describe([0, 0.05, 0.50, 0.95, 0.99, 1]).T)"
   ]
  },
  {
   "cell_type": "code",
   "execution_count": 6,
   "id": "1179a1f1",
   "metadata": {
    "execution": {
     "iopub.execute_input": "2025-02-02T21:58:19.301595Z",
     "iopub.status.busy": "2025-02-02T21:58:19.301183Z",
     "iopub.status.idle": "2025-02-02T21:58:19.344892Z",
     "shell.execute_reply": "2025-02-02T21:58:19.343547Z"
    },
    "papermill": {
     "duration": 0.052015,
     "end_time": "2025-02-02T21:58:19.346792",
     "exception": false,
     "start_time": "2025-02-02T21:58:19.294777",
     "status": "completed"
    },
    "tags": []
   },
   "outputs": [
    {
     "name": "stdout",
     "output_type": "stream",
     "text": [
      "##################### Shape #####################\n",
      "(5000, 5)\n",
      "##################### Types #####################\n",
      "PRICE       int64\n",
      "SOURCE     object\n",
      "SEX        object\n",
      "COUNTRY    object\n",
      "AGE         int64\n",
      "dtype: object\n",
      "##################### Head #####################\n",
      "   PRICE   SOURCE   SEX COUNTRY  AGE\n",
      "0     39  android  male     bra   17\n",
      "1     39  android  male     bra   17\n",
      "2     49  android  male     bra   17\n",
      "3     29  android  male     tur   17\n",
      "4     49  android  male     tur   17\n",
      "##################### Tail #####################\n",
      "      PRICE   SOURCE     SEX COUNTRY  AGE\n",
      "4995     29  android  female     bra   31\n",
      "4996     29  android  female     bra   31\n",
      "4997     29  android  female     bra   31\n",
      "4998     39  android  female     bra   31\n",
      "4999     29  android  female     bra   31\n",
      "##################### NA #####################\n",
      "PRICE      0\n",
      "SOURCE     0\n",
      "SEX        0\n",
      "COUNTRY    0\n",
      "AGE        0\n",
      "dtype: int64\n",
      "##################### Quantiles #####################\n",
      "        count  mean   std   min    0%    5%   50%   95%   99%  100%   max\n",
      "PRICE 5000.00 34.13 12.46  9.00  9.00 19.00 39.00 49.00 59.00 59.00 59.00\n",
      "AGE   5000.00 23.58  9.00 15.00 15.00 15.00 21.00 43.00 53.00 66.00 66.00\n"
     ]
    }
   ],
   "source": [
    "check_df(df)"
   ]
  },
  {
   "cell_type": "code",
   "execution_count": 7,
   "id": "2963fd77",
   "metadata": {
    "execution": {
     "iopub.execute_input": "2025-02-02T21:58:19.360121Z",
     "iopub.status.busy": "2025-02-02T21:58:19.359753Z",
     "iopub.status.idle": "2025-02-02T21:58:19.381666Z",
     "shell.execute_reply": "2025-02-02T21:58:19.380532Z"
    },
    "papermill": {
     "duration": 0.030704,
     "end_time": "2025-02-02T21:58:19.383689",
     "exception": false,
     "start_time": "2025-02-02T21:58:19.352985",
     "status": "completed"
    },
    "tags": []
   },
   "outputs": [],
   "source": [
    "# average price analysis\n",
    "agg_df = df.groupby([\"COUNTRY\", \"SOURCE\", \"SEX\", \"AGE\"]).agg({\"PRICE\": \"mean\"}).sort_values(\"PRICE\", ascending=False)"
   ]
  },
  {
   "cell_type": "code",
   "execution_count": 8,
   "id": "5a2fb271",
   "metadata": {
    "execution": {
     "iopub.execute_input": "2025-02-02T21:58:19.396909Z",
     "iopub.status.busy": "2025-02-02T21:58:19.396530Z",
     "iopub.status.idle": "2025-02-02T21:58:19.411435Z",
     "shell.execute_reply": "2025-02-02T21:58:19.410247Z"
    },
    "papermill": {
     "duration": 0.023499,
     "end_time": "2025-02-02T21:58:19.413272",
     "exception": false,
     "start_time": "2025-02-02T21:58:19.389773",
     "status": "completed"
    },
    "tags": []
   },
   "outputs": [
    {
     "data": {
      "text/html": [
       "<div>\n",
       "<style scoped>\n",
       "    .dataframe tbody tr th:only-of-type {\n",
       "        vertical-align: middle;\n",
       "    }\n",
       "\n",
       "    .dataframe tbody tr th {\n",
       "        vertical-align: top;\n",
       "    }\n",
       "\n",
       "    .dataframe thead th {\n",
       "        text-align: right;\n",
       "    }\n",
       "</style>\n",
       "<table border=\"1\" class=\"dataframe\">\n",
       "  <thead>\n",
       "    <tr style=\"text-align: right;\">\n",
       "      <th></th>\n",
       "      <th></th>\n",
       "      <th></th>\n",
       "      <th></th>\n",
       "      <th>PRICE</th>\n",
       "    </tr>\n",
       "    <tr>\n",
       "      <th>COUNTRY</th>\n",
       "      <th>SOURCE</th>\n",
       "      <th>SEX</th>\n",
       "      <th>AGE</th>\n",
       "      <th></th>\n",
       "    </tr>\n",
       "  </thead>\n",
       "  <tbody>\n",
       "    <tr>\n",
       "      <th>bra</th>\n",
       "      <th>android</th>\n",
       "      <th>male</th>\n",
       "      <th>46</th>\n",
       "      <td>59.00</td>\n",
       "    </tr>\n",
       "    <tr>\n",
       "      <th>usa</th>\n",
       "      <th>android</th>\n",
       "      <th>male</th>\n",
       "      <th>36</th>\n",
       "      <td>59.00</td>\n",
       "    </tr>\n",
       "    <tr>\n",
       "      <th>fra</th>\n",
       "      <th>android</th>\n",
       "      <th>female</th>\n",
       "      <th>24</th>\n",
       "      <td>59.00</td>\n",
       "    </tr>\n",
       "    <tr>\n",
       "      <th>usa</th>\n",
       "      <th>ios</th>\n",
       "      <th>male</th>\n",
       "      <th>32</th>\n",
       "      <td>54.00</td>\n",
       "    </tr>\n",
       "    <tr>\n",
       "      <th>deu</th>\n",
       "      <th>android</th>\n",
       "      <th>female</th>\n",
       "      <th>36</th>\n",
       "      <td>49.00</td>\n",
       "    </tr>\n",
       "  </tbody>\n",
       "</table>\n",
       "</div>"
      ],
      "text/plain": [
       "                            PRICE\n",
       "COUNTRY SOURCE  SEX    AGE       \n",
       "bra     android male   46   59.00\n",
       "usa     android male   36   59.00\n",
       "fra     android female 24   59.00\n",
       "usa     ios     male   32   54.00\n",
       "deu     android female 36   49.00"
      ]
     },
     "execution_count": 8,
     "metadata": {},
     "output_type": "execute_result"
    }
   ],
   "source": [
    "agg_df.head()"
   ]
  },
  {
   "cell_type": "code",
   "execution_count": 9,
   "id": "2b99e2b3",
   "metadata": {
    "execution": {
     "iopub.execute_input": "2025-02-02T21:58:19.427098Z",
     "iopub.status.busy": "2025-02-02T21:58:19.426719Z",
     "iopub.status.idle": "2025-02-02T21:58:19.433768Z",
     "shell.execute_reply": "2025-02-02T21:58:19.432676Z"
    },
    "papermill": {
     "duration": 0.015746,
     "end_time": "2025-02-02T21:58:19.435521",
     "exception": false,
     "start_time": "2025-02-02T21:58:19.419775",
     "status": "completed"
    },
    "tags": []
   },
   "outputs": [],
   "source": [
    "# Converting the names in the index to variable names.\n",
    "agg_df = agg_df.reset_index()"
   ]
  },
  {
   "cell_type": "markdown",
   "id": "7982f634",
   "metadata": {
    "papermill": {
     "duration": 0.005575,
     "end_time": "2025-02-02T21:58:19.447241",
     "exception": false,
     "start_time": "2025-02-02T21:58:19.441666",
     "status": "completed"
    },
    "tags": []
   },
   "source": [
    "## **Age Segmentation** "
   ]
  },
  {
   "cell_type": "code",
   "execution_count": 10,
   "id": "d149288b",
   "metadata": {
    "execution": {
     "iopub.execute_input": "2025-02-02T21:58:19.460152Z",
     "iopub.status.busy": "2025-02-02T21:58:19.459793Z",
     "iopub.status.idle": "2025-02-02T21:58:19.470595Z",
     "shell.execute_reply": "2025-02-02T21:58:19.469539Z"
    },
    "papermill": {
     "duration": 0.019052,
     "end_time": "2025-02-02T21:58:19.472177",
     "exception": false,
     "start_time": "2025-02-02T21:58:19.453125",
     "status": "completed"
    },
    "tags": []
   },
   "outputs": [],
   "source": [
    "# age categorization\n",
    "agg_df[\"AGE_CAT\"] = pd.cut(agg_df[\"AGE\"], bins=[0, 18, 23, 30, 40, 70],\n",
    "                           labels=['0_18', '19_23', '24_30', '31_40', \"41_\" + str(agg_df[\"AGE\"].max())])"
   ]
  },
  {
   "cell_type": "markdown",
   "id": "262d0664",
   "metadata": {
    "papermill": {
     "duration": 0.005607,
     "end_time": "2025-02-02T21:58:19.483926",
     "exception": false,
     "start_time": "2025-02-02T21:58:19.478319",
     "status": "completed"
    },
    "tags": []
   },
   "source": [
    "## **Persona-Based Variable** "
   ]
  },
  {
   "cell_type": "code",
   "execution_count": 11,
   "id": "2674d6e4",
   "metadata": {
    "execution": {
     "iopub.execute_input": "2025-02-02T21:58:19.496997Z",
     "iopub.status.busy": "2025-02-02T21:58:19.496628Z",
     "iopub.status.idle": "2025-02-02T21:58:19.504983Z",
     "shell.execute_reply": "2025-02-02T21:58:19.504099Z"
    },
    "papermill": {
     "duration": 0.016716,
     "end_time": "2025-02-02T21:58:19.506613",
     "exception": false,
     "start_time": "2025-02-02T21:58:19.489897",
     "status": "completed"
    },
    "tags": []
   },
   "outputs": [],
   "source": [
    "# put the VALUES of the variables COUNTRY, SOURCE, SEX and age next to each other and combine them with an underscore.\n",
    "agg_df[\"customers_level_based\"] = [row[0].upper() + \"_\" +\n",
    "                                   row[1].upper() + \"_\" +\n",
    "                                   row[2].upper() + \"_\" +\n",
    "                                   row[5].upper() for row in agg_df.values]"
   ]
  },
  {
   "cell_type": "code",
   "execution_count": 12,
   "id": "fdcaf538",
   "metadata": {
    "execution": {
     "iopub.execute_input": "2025-02-02T21:58:19.519948Z",
     "iopub.status.busy": "2025-02-02T21:58:19.519583Z",
     "iopub.status.idle": "2025-02-02T21:58:19.526561Z",
     "shell.execute_reply": "2025-02-02T21:58:19.525488Z"
    },
    "papermill": {
     "duration": 0.015819,
     "end_time": "2025-02-02T21:58:19.528622",
     "exception": false,
     "start_time": "2025-02-02T21:58:19.512803",
     "status": "completed"
    },
    "tags": []
   },
   "outputs": [],
   "source": [
    "# remove other variables\n",
    "agg_df = agg_df[[\"customers_level_based\", \"PRICE\"]]"
   ]
  },
  {
   "cell_type": "code",
   "execution_count": 13,
   "id": "162cc6af",
   "metadata": {
    "execution": {
     "iopub.execute_input": "2025-02-02T21:58:19.542132Z",
     "iopub.status.busy": "2025-02-02T21:58:19.541787Z",
     "iopub.status.idle": "2025-02-02T21:58:19.549553Z",
     "shell.execute_reply": "2025-02-02T21:58:19.548591Z"
    },
    "papermill": {
     "duration": 0.01633,
     "end_time": "2025-02-02T21:58:19.551201",
     "exception": false,
     "start_time": "2025-02-02T21:58:19.534871",
     "status": "completed"
    },
    "tags": []
   },
   "outputs": [
    {
     "data": {
      "text/plain": [
       "customers_level_based\n",
       "BRA_ANDROID_MALE_24_30      7\n",
       "USA_ANDROID_MALE_41_66      7\n",
       "USA_IOS_FEMALE_24_30        7\n",
       "BRA_ANDROID_FEMALE_24_30    7\n",
       "USA_ANDROID_MALE_24_30      7\n",
       "Name: count, dtype: int64"
      ]
     },
     "execution_count": 13,
     "metadata": {},
     "output_type": "execute_result"
    }
   ],
   "source": [
    "agg_df[\"customers_level_based\"].value_counts().head()"
   ]
  },
  {
   "cell_type": "markdown",
   "id": "887a4b3b",
   "metadata": {
    "papermill": {
     "duration": 0.005673,
     "end_time": "2025-02-02T21:58:19.563285",
     "exception": false,
     "start_time": "2025-02-02T21:58:19.557612",
     "status": "completed"
    },
    "tags": []
   },
   "source": [
    "It is observed that there is more than one value in the same segment."
   ]
  },
  {
   "cell_type": "code",
   "execution_count": 14,
   "id": "2c84948a",
   "metadata": {
    "execution": {
     "iopub.execute_input": "2025-02-02T21:58:19.576670Z",
     "iopub.status.busy": "2025-02-02T21:58:19.576230Z",
     "iopub.status.idle": "2025-02-02T21:58:19.582937Z",
     "shell.execute_reply": "2025-02-02T21:58:19.581987Z"
    },
    "papermill": {
     "duration": 0.015457,
     "end_time": "2025-02-02T21:58:19.584888",
     "exception": false,
     "start_time": "2025-02-02T21:58:19.569431",
     "status": "completed"
    },
    "tags": []
   },
   "outputs": [],
   "source": [
    "# deduplication of segments\n",
    "agg_df = agg_df.groupby(\"customers_level_based\").agg({\"PRICE\": \"mean\"})"
   ]
  },
  {
   "cell_type": "code",
   "execution_count": 15,
   "id": "b8d5700d",
   "metadata": {
    "execution": {
     "iopub.execute_input": "2025-02-02T21:58:19.598711Z",
     "iopub.status.busy": "2025-02-02T21:58:19.598282Z",
     "iopub.status.idle": "2025-02-02T21:58:19.603518Z",
     "shell.execute_reply": "2025-02-02T21:58:19.602297Z"
    },
    "papermill": {
     "duration": 0.014049,
     "end_time": "2025-02-02T21:58:19.605274",
     "exception": false,
     "start_time": "2025-02-02T21:58:19.591225",
     "status": "completed"
    },
    "tags": []
   },
   "outputs": [],
   "source": [
    "# Converting the names in the index to variable names.\n",
    "agg_df = agg_df.reset_index()"
   ]
  },
  {
   "cell_type": "markdown",
   "id": "bb5a98e2",
   "metadata": {
    "papermill": {
     "duration": 0.005752,
     "end_time": "2025-02-02T21:58:19.617542",
     "exception": false,
     "start_time": "2025-02-02T21:58:19.611790",
     "status": "completed"
    },
    "tags": []
   },
   "source": [
    "## **Customer Segmentation**  "
   ]
  },
  {
   "cell_type": "code",
   "execution_count": 16,
   "id": "9b97dd13",
   "metadata": {
    "execution": {
     "iopub.execute_input": "2025-02-02T21:58:19.630843Z",
     "iopub.status.busy": "2025-02-02T21:58:19.630461Z",
     "iopub.status.idle": "2025-02-02T21:58:19.638682Z",
     "shell.execute_reply": "2025-02-02T21:58:19.637542Z"
    },
    "papermill": {
     "duration": 0.016906,
     "end_time": "2025-02-02T21:58:19.640459",
     "exception": false,
     "start_time": "2025-02-02T21:58:19.623553",
     "status": "completed"
    },
    "tags": []
   },
   "outputs": [],
   "source": [
    "# Segmentation by PRICE variable\n",
    "agg_df[\"SEGMENT\"] = pd.qcut(agg_df[\"PRICE\"], 4, labels=[\"D\", \"C\", \"B\", \"A\"])"
   ]
  },
  {
   "cell_type": "code",
   "execution_count": 17,
   "id": "5b6633b7",
   "metadata": {
    "execution": {
     "iopub.execute_input": "2025-02-02T21:58:19.654075Z",
     "iopub.status.busy": "2025-02-02T21:58:19.653707Z",
     "iopub.status.idle": "2025-02-02T21:58:19.662918Z",
     "shell.execute_reply": "2025-02-02T21:58:19.661868Z"
    },
    "papermill": {
     "duration": 0.017911,
     "end_time": "2025-02-02T21:58:19.664679",
     "exception": false,
     "start_time": "2025-02-02T21:58:19.646768",
     "status": "completed"
    },
    "tags": []
   },
   "outputs": [
    {
     "data": {
      "text/html": [
       "<div>\n",
       "<style scoped>\n",
       "    .dataframe tbody tr th:only-of-type {\n",
       "        vertical-align: middle;\n",
       "    }\n",
       "\n",
       "    .dataframe tbody tr th {\n",
       "        vertical-align: top;\n",
       "    }\n",
       "\n",
       "    .dataframe thead th {\n",
       "        text-align: right;\n",
       "    }\n",
       "</style>\n",
       "<table border=\"1\" class=\"dataframe\">\n",
       "  <thead>\n",
       "    <tr style=\"text-align: right;\">\n",
       "      <th></th>\n",
       "      <th>customers_level_based</th>\n",
       "      <th>PRICE</th>\n",
       "      <th>SEGMENT</th>\n",
       "    </tr>\n",
       "  </thead>\n",
       "  <tbody>\n",
       "    <tr>\n",
       "      <th>0</th>\n",
       "      <td>BRA_ANDROID_FEMALE_0_18</td>\n",
       "      <td>35.65</td>\n",
       "      <td>B</td>\n",
       "    </tr>\n",
       "    <tr>\n",
       "      <th>1</th>\n",
       "      <td>BRA_ANDROID_FEMALE_19_23</td>\n",
       "      <td>34.08</td>\n",
       "      <td>C</td>\n",
       "    </tr>\n",
       "    <tr>\n",
       "      <th>2</th>\n",
       "      <td>BRA_ANDROID_FEMALE_24_30</td>\n",
       "      <td>33.86</td>\n",
       "      <td>C</td>\n",
       "    </tr>\n",
       "    <tr>\n",
       "      <th>3</th>\n",
       "      <td>BRA_ANDROID_FEMALE_31_40</td>\n",
       "      <td>34.90</td>\n",
       "      <td>B</td>\n",
       "    </tr>\n",
       "    <tr>\n",
       "      <th>4</th>\n",
       "      <td>BRA_ANDROID_FEMALE_41_66</td>\n",
       "      <td>36.74</td>\n",
       "      <td>A</td>\n",
       "    </tr>\n",
       "  </tbody>\n",
       "</table>\n",
       "</div>"
      ],
      "text/plain": [
       "      customers_level_based  PRICE SEGMENT\n",
       "0   BRA_ANDROID_FEMALE_0_18  35.65       B\n",
       "1  BRA_ANDROID_FEMALE_19_23  34.08       C\n",
       "2  BRA_ANDROID_FEMALE_24_30  33.86       C\n",
       "3  BRA_ANDROID_FEMALE_31_40  34.90       B\n",
       "4  BRA_ANDROID_FEMALE_41_66  36.74       A"
      ]
     },
     "execution_count": 17,
     "metadata": {},
     "output_type": "execute_result"
    }
   ],
   "source": [
    "agg_df.head()"
   ]
  },
  {
   "cell_type": "markdown",
   "id": "d937bc8d",
   "metadata": {
    "papermill": {
     "duration": 0.005842,
     "end_time": "2025-02-02T21:58:19.676871",
     "exception": false,
     "start_time": "2025-02-02T21:58:19.671029",
     "status": "completed"
    },
    "tags": []
   },
   "source": [
    "## **New Customer Average Revenue Prediction** "
   ]
  },
  {
   "cell_type": "code",
   "execution_count": 18,
   "id": "3fd65f9e",
   "metadata": {
    "execution": {
     "iopub.execute_input": "2025-02-02T21:58:19.690399Z",
     "iopub.status.busy": "2025-02-02T21:58:19.690070Z",
     "iopub.status.idle": "2025-02-02T21:58:19.694300Z",
     "shell.execute_reply": "2025-02-02T21:58:19.693177Z"
    },
    "papermill": {
     "duration": 0.012877,
     "end_time": "2025-02-02T21:58:19.695928",
     "exception": false,
     "start_time": "2025-02-02T21:58:19.683051",
     "status": "completed"
    },
    "tags": []
   },
   "outputs": [],
   "source": [
    "# 33 year old Turkish woman using ANDROID\n",
    "new_user_1 = \"TUR_ANDROID_FEMALE_31_40\""
   ]
  },
  {
   "cell_type": "code",
   "execution_count": 19,
   "id": "ede20545",
   "metadata": {
    "execution": {
     "iopub.execute_input": "2025-02-02T21:58:19.709329Z",
     "iopub.status.busy": "2025-02-02T21:58:19.709005Z",
     "iopub.status.idle": "2025-02-02T21:58:19.720678Z",
     "shell.execute_reply": "2025-02-02T21:58:19.719762Z"
    },
    "papermill": {
     "duration": 0.02005,
     "end_time": "2025-02-02T21:58:19.722184",
     "exception": false,
     "start_time": "2025-02-02T21:58:19.702134",
     "status": "completed"
    },
    "tags": []
   },
   "outputs": [
    {
     "data": {
      "text/html": [
       "<div>\n",
       "<style scoped>\n",
       "    .dataframe tbody tr th:only-of-type {\n",
       "        vertical-align: middle;\n",
       "    }\n",
       "\n",
       "    .dataframe tbody tr th {\n",
       "        vertical-align: top;\n",
       "    }\n",
       "\n",
       "    .dataframe thead th {\n",
       "        text-align: right;\n",
       "    }\n",
       "</style>\n",
       "<table border=\"1\" class=\"dataframe\">\n",
       "  <thead>\n",
       "    <tr style=\"text-align: right;\">\n",
       "      <th></th>\n",
       "      <th>customers_level_based</th>\n",
       "      <th>PRICE</th>\n",
       "      <th>SEGMENT</th>\n",
       "    </tr>\n",
       "  </thead>\n",
       "  <tbody>\n",
       "    <tr>\n",
       "      <th>72</th>\n",
       "      <td>TUR_ANDROID_FEMALE_31_40</td>\n",
       "      <td>41.83</td>\n",
       "      <td>A</td>\n",
       "    </tr>\n",
       "  </tbody>\n",
       "</table>\n",
       "</div>"
      ],
      "text/plain": [
       "       customers_level_based  PRICE SEGMENT\n",
       "72  TUR_ANDROID_FEMALE_31_40  41.83       A"
      ]
     },
     "execution_count": 19,
     "metadata": {},
     "output_type": "execute_result"
    }
   ],
   "source": [
    "# Average Revenue Prediction\n",
    "agg_df[agg_df[\"customers_level_based\"] == new_user_1]"
   ]
  },
  {
   "cell_type": "code",
   "execution_count": 20,
   "id": "08a89de2",
   "metadata": {
    "execution": {
     "iopub.execute_input": "2025-02-02T21:58:19.736667Z",
     "iopub.status.busy": "2025-02-02T21:58:19.736244Z",
     "iopub.status.idle": "2025-02-02T21:58:19.740361Z",
     "shell.execute_reply": "2025-02-02T21:58:19.739261Z"
    },
    "papermill": {
     "duration": 0.013283,
     "end_time": "2025-02-02T21:58:19.742074",
     "exception": false,
     "start_time": "2025-02-02T21:58:19.728791",
     "status": "completed"
    },
    "tags": []
   },
   "outputs": [],
   "source": [
    "# 50 year old Brazilian man using IOS\n",
    "new_user_2 = \"BRA_IOS_MALE_41_66\""
   ]
  },
  {
   "cell_type": "code",
   "execution_count": 21,
   "id": "531c19a9",
   "metadata": {
    "execution": {
     "iopub.execute_input": "2025-02-02T21:58:19.756926Z",
     "iopub.status.busy": "2025-02-02T21:58:19.756576Z",
     "iopub.status.idle": "2025-02-02T21:58:19.766440Z",
     "shell.execute_reply": "2025-02-02T21:58:19.765390Z"
    },
    "papermill": {
     "duration": 0.019115,
     "end_time": "2025-02-02T21:58:19.768137",
     "exception": false,
     "start_time": "2025-02-02T21:58:19.749022",
     "status": "completed"
    },
    "tags": []
   },
   "outputs": [
    {
     "data": {
      "text/html": [
       "<div>\n",
       "<style scoped>\n",
       "    .dataframe tbody tr th:only-of-type {\n",
       "        vertical-align: middle;\n",
       "    }\n",
       "\n",
       "    .dataframe tbody tr th {\n",
       "        vertical-align: top;\n",
       "    }\n",
       "\n",
       "    .dataframe thead th {\n",
       "        text-align: right;\n",
       "    }\n",
       "</style>\n",
       "<table border=\"1\" class=\"dataframe\">\n",
       "  <thead>\n",
       "    <tr style=\"text-align: right;\">\n",
       "      <th></th>\n",
       "      <th>customers_level_based</th>\n",
       "      <th>PRICE</th>\n",
       "      <th>SEGMENT</th>\n",
       "    </tr>\n",
       "  </thead>\n",
       "  <tbody>\n",
       "    <tr>\n",
       "      <th>19</th>\n",
       "      <td>BRA_IOS_MALE_41_66</td>\n",
       "      <td>31.08</td>\n",
       "      <td>D</td>\n",
       "    </tr>\n",
       "  </tbody>\n",
       "</table>\n",
       "</div>"
      ],
      "text/plain": [
       "   customers_level_based  PRICE SEGMENT\n",
       "19    BRA_IOS_MALE_41_66  31.08       D"
      ]
     },
     "execution_count": 21,
     "metadata": {},
     "output_type": "execute_result"
    }
   ],
   "source": [
    "# Average Revenue Prediction\n",
    "agg_df[agg_df[\"customers_level_based\"] == new_user_2]"
   ]
  }
 ],
 "metadata": {
  "kaggle": {
   "accelerator": "none",
   "dataSources": [
    {
     "datasetId": 6591545,
     "sourceId": 10645344,
     "sourceType": "datasetVersion"
    }
   ],
   "dockerImageVersionId": 30839,
   "isGpuEnabled": false,
   "isInternetEnabled": true,
   "language": "python",
   "sourceType": "notebook"
  },
  "kernelspec": {
   "display_name": "Python 3",
   "language": "python",
   "name": "python3"
  },
  "language_info": {
   "codemirror_mode": {
    "name": "ipython",
    "version": 3
   },
   "file_extension": ".py",
   "mimetype": "text/x-python",
   "name": "python",
   "nbconvert_exporter": "python",
   "pygments_lexer": "ipython3",
   "version": "3.10.12"
  },
  "papermill": {
   "default_parameters": {},
   "duration": 8.664801,
   "end_time": "2025-02-02T21:58:20.595615",
   "environment_variables": {},
   "exception": null,
   "input_path": "__notebook__.ipynb",
   "output_path": "__notebook__.ipynb",
   "parameters": {},
   "start_time": "2025-02-02T21:58:11.930814",
   "version": "2.6.0"
  }
 },
 "nbformat": 4,
 "nbformat_minor": 5
}
